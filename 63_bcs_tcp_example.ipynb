{
 "cells": [
  {
   "cell_type": "markdown",
   "id": "b2c9e1b5",
   "metadata": {},
   "source": [
    "# Controlling ALS BCS Labview motors using python through TCP\n",
    "awojdyla@lbl.gov, October 2024\n",
    "\n",
    "Make sure that the the BCS interface has a TCP port open (and that you saved it)\n",
    "\n",
    "A lot of nice wrapping of functions can be found in Ken Goldberg's code for the ALS wavefront sensor\n",
    "[kwfs](https://bitbucket.org/alsuboss/alsu_wfs/src/master/kwfs.py)"
   ]
  },
  {
   "cell_type": "code",
   "execution_count": null,
   "id": "5d349130",
   "metadata": {},
   "outputs": [
    {
     "name": "stdout",
     "output_type": "stream",
     "text": [
      "v0.1\n",
      "None\n",
      "\n"
     ]
    },
    {
     "ename": "BrokenPipeError",
     "evalue": "[Errno 32] Broken pipe",
     "output_type": "error",
     "traceback": [
      "\u001b[0;31m---------------------------------------------------------------------------\u001b[0m",
      "\u001b[0;31mBrokenPipeError\u001b[0m                           Traceback (most recent call last)",
      "Cell \u001b[0;32mIn[7], line 19\u001b[0m\n\u001b[1;32m     10\u001b[0m \u001b[38;5;28mprint\u001b[39m( bcs\u001b[38;5;241m.\u001b[39mlistcommands() )\n\u001b[1;32m     12\u001b[0m \u001b[38;5;66;03m# # Move the X motor to position 0\u001b[39;00m\n\u001b[1;32m     13\u001b[0m \u001b[38;5;66;03m# print( bcs.movemotor('X',0) )\u001b[39;00m\n\u001b[1;32m     14\u001b[0m \u001b[38;5;66;03m# # Wait for BCS to report back that the motor has finished moving\u001b[39;00m\n\u001b[0;32m   (...)\u001b[0m\n\u001b[1;32m     17\u001b[0m \n\u001b[1;32m     18\u001b[0m \u001b[38;5;66;03m# Check the motor's status\u001b[39;00m\n\u001b[0;32m---> 19\u001b[0m \u001b[43mbcs\u001b[49m\u001b[38;5;241;43m.\u001b[39;49m\u001b[43mgetmotorstat\u001b[49m\u001b[43m(\u001b[49m\u001b[38;5;124;43m'\u001b[39;49m\u001b[38;5;124;43mPicomotor X\u001b[39;49m\u001b[38;5;124;43m'\u001b[39;49m\u001b[43m)\u001b[49m\n",
      "File \u001b[0;32m~/python/aiw-notebooks/sandbox/bcs_tcp.py:19\u001b[0m, in \u001b[0;36mconnection.__getattr__.<locals>.<lambda>\u001b[0;34m(*argv)\u001b[0m\n\u001b[1;32m     18\u001b[0m \u001b[38;5;28;01mdef\u001b[39;00m\u001b[38;5;250m \u001b[39m\u001b[38;5;21m__getattr__\u001b[39m(\u001b[38;5;28mself\u001b[39m, name):\n\u001b[0;32m---> 19\u001b[0m     \u001b[38;5;28;01mreturn\u001b[39;00m \u001b[38;5;28;01mlambda\u001b[39;00m \u001b[38;5;241m*\u001b[39margv : \u001b[38;5;28;43mself\u001b[39;49m\u001b[38;5;241;43m.\u001b[39;49m\u001b[43mcallTCP\u001b[49m\u001b[43m(\u001b[49m\u001b[43mname\u001b[49m\u001b[43m,\u001b[49m\u001b[43m \u001b[49m\u001b[43margv\u001b[49m\u001b[43m)\u001b[49m\n",
      "File \u001b[0;32m~/python/aiw-notebooks/sandbox/bcs_tcp.py:27\u001b[0m, in \u001b[0;36mconnection.callTCP\u001b[0;34m(self, name, argv)\u001b[0m\n\u001b[1;32m     25\u001b[0m cmd \u001b[38;5;241m=\u001b[39m name\u001b[38;5;241m.\u001b[39mreplace(\u001b[38;5;124m'\u001b[39m\u001b[38;5;124m_\u001b[39m\u001b[38;5;124m'\u001b[39m,\u001b[38;5;124m\"\u001b[39m\u001b[38;5;124m \u001b[39m\u001b[38;5;124m\"\u001b[39m) \u001b[38;5;241m+\u001b[39m \u001b[38;5;28mself\u001b[39m\u001b[38;5;241m.\u001b[39mstringify(argv)\n\u001b[1;32m     26\u001b[0m \u001b[38;5;66;03m#print(\"Calling BCS function:\",cmd)\u001b[39;00m\n\u001b[0;32m---> 27\u001b[0m \u001b[38;5;28;43mself\u001b[39;49m\u001b[38;5;241;43m.\u001b[39;49m\u001b[43msendToSocket\u001b[49m\u001b[43m(\u001b[49m\u001b[43mcmd\u001b[49m\u001b[43m)\u001b[49m\n\u001b[1;32m     28\u001b[0m \u001b[38;5;28;01mreturn\u001b[39;00m \u001b[38;5;28mself\u001b[39m\u001b[38;5;241m.\u001b[39mread()\n",
      "File \u001b[0;32m~/python/aiw-notebooks/sandbox/bcs_tcp.py:32\u001b[0m, in \u001b[0;36mconnection.sendToSocket\u001b[0;34m(self, cmd)\u001b[0m\n\u001b[1;32m     30\u001b[0m \u001b[38;5;28;01mdef\u001b[39;00m\u001b[38;5;250m \u001b[39m\u001b[38;5;21msendToSocket\u001b[39m(\u001b[38;5;28mself\u001b[39m,cmd):\n\u001b[1;32m     31\u001b[0m     cmd\u001b[38;5;241m+\u001b[39m\u001b[38;5;241m=\u001b[39m\u001b[38;5;124m'\u001b[39m\u001b[38;5;130;01m\\r\u001b[39;00m\u001b[38;5;130;01m\\n\u001b[39;00m\u001b[38;5;124m'\u001b[39m\n\u001b[0;32m---> 32\u001b[0m     \u001b[38;5;28;43mself\u001b[39;49m\u001b[38;5;241;43m.\u001b[39;49m\u001b[43mmy_socket\u001b[49m\u001b[38;5;241;43m.\u001b[39;49m\u001b[43msendall\u001b[49m\u001b[43m(\u001b[49m\u001b[43mcmd\u001b[49m\u001b[38;5;241;43m.\u001b[39;49m\u001b[43mencode\u001b[49m\u001b[43m(\u001b[49m\u001b[43m)\u001b[49m\u001b[43m)\u001b[49m\n",
      "\u001b[0;31mBrokenPipeError\u001b[0m: [Errno 32] Broken pipe"
     ]
    }
   ],
   "source": [
    "#import bcs_tcp\n",
    "import scripts.bcs_tcp as bcs_tcp\n",
    "\n",
    "\n",
    "#(host_ip_addr, host_port, host_timeout) = ('localhost',55000,60)\n",
    "(host_ip_addr, host_port, host_timeout) = ('192.168.10.1',50000,5)\n",
    "\n",
    "# open TCP connection to BCS server running on localhost\n",
    "bcs = bcs_tcp.connection(host_ip_addr, host_port, host_timeout)\n",
    "print( bcs.ver() )\n",
    "print( bcs.listcommands() )\n",
    "\n",
    "# # Move the X motor to position 0\n",
    "# print( bcs.movemotor('X',0) )\n",
    "# # Wait for BCS to report back that the motor has finished moving\n",
    "# while 'Move in progress' in bcs.getmotorstat('X'):\n",
    "#     pass #print(bcs.getmotorstat('X'))\n",
    "\n",
    "# Check the motor's status\n",
    "bcs.getmotorstat('Picomotor X')"
   ]
  },
  {
   "cell_type": "code",
   "execution_count": 8,
   "id": "8f35a069",
   "metadata": {},
   "outputs": [
    {
     "ename": "BrokenPipeError",
     "evalue": "[Errno 32] Broken pipe",
     "output_type": "error",
     "traceback": [
      "\u001b[0;31m---------------------------------------------------------------------------\u001b[0m",
      "\u001b[0;31mBrokenPipeError\u001b[0m                           Traceback (most recent call last)",
      "Cell \u001b[0;32mIn[8], line 1\u001b[0m\n\u001b[0;32m----> 1\u001b[0m \u001b[43mbcs\u001b[49m\u001b[38;5;241;43m.\u001b[39;49m\u001b[43mlistcommands\u001b[49m\u001b[43m(\u001b[49m\u001b[43m)\u001b[49m\n",
      "File \u001b[0;32m~/python/aiw-notebooks/sandbox/bcs_tcp.py:19\u001b[0m, in \u001b[0;36mconnection.__getattr__.<locals>.<lambda>\u001b[0;34m(*argv)\u001b[0m\n\u001b[1;32m     18\u001b[0m \u001b[38;5;28;01mdef\u001b[39;00m\u001b[38;5;250m \u001b[39m\u001b[38;5;21m__getattr__\u001b[39m(\u001b[38;5;28mself\u001b[39m, name):\n\u001b[0;32m---> 19\u001b[0m     \u001b[38;5;28;01mreturn\u001b[39;00m \u001b[38;5;28;01mlambda\u001b[39;00m \u001b[38;5;241m*\u001b[39margv : \u001b[38;5;28;43mself\u001b[39;49m\u001b[38;5;241;43m.\u001b[39;49m\u001b[43mcallTCP\u001b[49m\u001b[43m(\u001b[49m\u001b[43mname\u001b[49m\u001b[43m,\u001b[49m\u001b[43m \u001b[49m\u001b[43margv\u001b[49m\u001b[43m)\u001b[49m\n",
      "File \u001b[0;32m~/python/aiw-notebooks/sandbox/bcs_tcp.py:27\u001b[0m, in \u001b[0;36mconnection.callTCP\u001b[0;34m(self, name, argv)\u001b[0m\n\u001b[1;32m     25\u001b[0m cmd \u001b[38;5;241m=\u001b[39m name\u001b[38;5;241m.\u001b[39mreplace(\u001b[38;5;124m'\u001b[39m\u001b[38;5;124m_\u001b[39m\u001b[38;5;124m'\u001b[39m,\u001b[38;5;124m\"\u001b[39m\u001b[38;5;124m \u001b[39m\u001b[38;5;124m\"\u001b[39m) \u001b[38;5;241m+\u001b[39m \u001b[38;5;28mself\u001b[39m\u001b[38;5;241m.\u001b[39mstringify(argv)\n\u001b[1;32m     26\u001b[0m \u001b[38;5;66;03m#print(\"Calling BCS function:\",cmd)\u001b[39;00m\n\u001b[0;32m---> 27\u001b[0m \u001b[38;5;28;43mself\u001b[39;49m\u001b[38;5;241;43m.\u001b[39;49m\u001b[43msendToSocket\u001b[49m\u001b[43m(\u001b[49m\u001b[43mcmd\u001b[49m\u001b[43m)\u001b[49m\n\u001b[1;32m     28\u001b[0m \u001b[38;5;28;01mreturn\u001b[39;00m \u001b[38;5;28mself\u001b[39m\u001b[38;5;241m.\u001b[39mread()\n",
      "File \u001b[0;32m~/python/aiw-notebooks/sandbox/bcs_tcp.py:32\u001b[0m, in \u001b[0;36mconnection.sendToSocket\u001b[0;34m(self, cmd)\u001b[0m\n\u001b[1;32m     30\u001b[0m \u001b[38;5;28;01mdef\u001b[39;00m\u001b[38;5;250m \u001b[39m\u001b[38;5;21msendToSocket\u001b[39m(\u001b[38;5;28mself\u001b[39m,cmd):\n\u001b[1;32m     31\u001b[0m     cmd\u001b[38;5;241m+\u001b[39m\u001b[38;5;241m=\u001b[39m\u001b[38;5;124m'\u001b[39m\u001b[38;5;130;01m\\r\u001b[39;00m\u001b[38;5;130;01m\\n\u001b[39;00m\u001b[38;5;124m'\u001b[39m\n\u001b[0;32m---> 32\u001b[0m     \u001b[38;5;28;43mself\u001b[39;49m\u001b[38;5;241;43m.\u001b[39;49m\u001b[43mmy_socket\u001b[49m\u001b[38;5;241;43m.\u001b[39;49m\u001b[43msendall\u001b[49m\u001b[43m(\u001b[49m\u001b[43mcmd\u001b[49m\u001b[38;5;241;43m.\u001b[39;49m\u001b[43mencode\u001b[49m\u001b[43m(\u001b[49m\u001b[43m)\u001b[49m\u001b[43m)\u001b[49m\n",
      "\u001b[0;31mBrokenPipeError\u001b[0m: [Errno 32] Broken pipe"
     ]
    }
   ],
   "source": [
    "bcs.listcommands()"
   ]
  },
  {
   "cell_type": "code",
   "execution_count": 3,
   "id": "72ad16ed",
   "metadata": {},
   "outputs": [],
   "source": [
    "import scripts.bcs_tcp as bcs_tcp"
   ]
  }
 ],
 "metadata": {
  "kernelspec": {
   "display_name": "Python 3",
   "language": "python",
   "name": "python3"
  },
  "language_info": {
   "codemirror_mode": {
    "name": "ipython",
    "version": 3
   },
   "file_extension": ".py",
   "mimetype": "text/x-python",
   "name": "python",
   "nbconvert_exporter": "python",
   "pygments_lexer": "ipython3",
   "version": "3.10.8"
  }
 },
 "nbformat": 4,
 "nbformat_minor": 5
}
