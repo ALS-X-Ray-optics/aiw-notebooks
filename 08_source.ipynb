{
 "cells": [
  {
   "cell_type": "markdown",
   "metadata": {},
   "source": [
    "# Source modelling\n",
    "awojdyla@lbl.gov, October 2021\n",
    "\n",
    "In this script, we model the source for an undulator\n",
    "\n",
    "–adapted from `cosmicu_fdr.m`"
   ]
  },
  {
   "cell_type": "code",
   "execution_count": 1,
   "metadata": {},
   "outputs": [],
   "source": [
    "import numpy as np\n",
    "import matplotlib.pyplot as plt"
   ]
  },
  {
   "cell_type": "markdown",
   "metadata": {},
   "source": [
    "## Conversions and units"
   ]
  },
  {
   "cell_type": "code",
   "execution_count": 2,
   "metadata": {},
   "outputs": [],
   "source": [
    "# speed of light [m/s]\n",
    "c   = 299792458         \n",
    "# Planck constanct [J.s]\n",
    "h   = 6.626070040*1e-34 \n",
    "# elementaty charge x 1V [J.s]\n",
    "eV  = 1.6021766208*1e-19\n",
    "# Avogadro number [mol-1]\n",
    "Ag  = 6.0221408571e23   \n",
    "# degree/rad conversion\n",
    "deg = 180/np.pi\n",
    "# gaussian fwhm to variance\n",
    "sigma_fhwm = 1/(2*np.sqrt(2*np.log(2)))\n",
    "# inch to meter conversion\n",
    "in_m = 25.4e-3          "
   ]
  },
  {
   "cell_type": "code",
   "execution_count": 3,
   "metadata": {},
   "outputs": [],
   "source": [
    "# strictly equivalent\n",
    "\n",
    "import scipy.constants as constant\n",
    "#constant.c\n",
    "#constant.h\n",
    "#constant.e\n",
    "\n",
    "from scipy.constants import c, h, e\n"
   ]
  },
  {
   "cell_type": "code",
   "execution_count": 4,
   "metadata": {},
   "outputs": [],
   "source": [
    "# storage ring energy\n",
    "Esr_GeV = 2.0\n",
    "# Storage ring current\n",
    "Isr_A = 500e-3\n",
    "# energy spread\n",
    "dEpE = 0.98e-3"
   ]
  },
  {
   "cell_type": "markdown",
   "metadata": {},
   "source": [
    "## Undulator source"
   ]
  },
  {
   "cell_type": "markdown",
   "metadata": {},
   "source": [
    "### Source size"
   ]
  },
  {
   "cell_type": "code",
   "execution_count": 5,
   "metadata": {},
   "outputs": [],
   "source": [
    "# undulator\n",
    "undulator_N = 55\n",
    "undulator_L_m = 2.071\n",
    "Lambda0_m = 38e-3\n",
    "\n",
    "# operating range\n",
    "Es_eV = np.linspace(250,2500,226)\n",
    "lambdas_m = 1.2398e-06/Es_eV\n",
    "\n",
    "# electron beam size and divergence\n",
    "sex_m = 12.33e-6\n",
    "sey_m = 15.10e-6\n",
    "sexp_rad = 6.164e-6\n",
    "seyp_rad = 5.033e-6\n",
    "\n",
    "# photon beam size\n",
    "sp_m    = np.sqrt(lambdas_m*2*undulator_L_m)/(2*np.pi)\n",
    "spp_rad = np.sqrt(lambdas_m/(2*undulator_L_m))\n",
    "# convoluted beam size\n",
    "Sx_m  = np.sqrt(sex_m**2+sp_m**2)\n",
    "Sxp_rad = np.sqrt(sexp_rad**2+spp_rad**2)\n",
    "Sy_m  = np.sqrt(sey_m**2+sp_m**2)\n",
    "Syp_rad = np.sqrt(seyp_rad**2+spp_rad**2)\n",
    "\n",
    "#[Sx_m, Sxp_rad, Sy_m, Syp_rad] = Gen4.beam_size(Es_eV, undulator_L_m)"
   ]
  },
  {
   "cell_type": "markdown",
   "metadata": {},
   "source": [
    "### tuning curves"
   ]
  },
  {
   "cell_type": "code",
   "execution_count": 6,
   "metadata": {},
   "outputs": [],
   "source": [
    "# Deflection parameter\n",
    "K = lambda n_harm, E_eV: np.sqrt(2*(9.5*n_harm*Esr_GeV**2./(Lambda0_m*E_eV)-1))"
   ]
  },
  {
   "cell_type": "markdown",
   "metadata": {},
   "source": [
    "### Flux"
   ]
  },
  {
   "cell_type": "code",
   "execution_count": 7,
   "metadata": {},
   "outputs": [
    {
     "name": "stdout",
     "output_type": "stream",
     "text": [
      "Photon energy 300.0 eV on harmonic 1 at K = 2.160\n",
      "Flux at resonance: 1.762e+15 [ph/sec/0.1BW]\n"
     ]
    }
   ],
   "source": [
    "from scipy import special\n",
    "\n",
    "N_und = undulator_N\n",
    "n_harm = 1\n",
    "E_eV = 300\n",
    "\n",
    "# See KJ Kim eq 42\n",
    "Y = lambda n, K:  n*K**2/(4*(1+K**2/2))\n",
    "F = lambda n, K: (n*K/(1+(K**2)/2))**2*(special.jv((n+1)/2, Y(n,K))-special.jv((n-1)/2, Y(n,K)))**2\n",
    "Q = lambda n, K: (1+(K**2)/2)*F(n,K)/n\n",
    "\n",
    "\n",
    "flux_ph_s_01bw = 0.72 * 1e14*N_und*Q(n_harm,K(n_harm,E_eV))*Isr_A\n",
    "print((\"Photon energy %1.1f eV \" %E_eV)+(\"on harmonic %i\" %n_harm) + (\" at K = %1.3f\" % K(n_harm,E_eV)))\n",
    "print(\"Flux at resonance: %1.3e [ph/sec/0.1BW]\"%flux_ph_s_01bw)"
   ]
  },
  {
   "cell_type": "markdown",
   "metadata": {},
   "source": [
    "### Emittance\n",
    "Warning: untested"
   ]
  },
  {
   "cell_type": "code",
   "execution_count": 8,
   "metadata": {},
   "outputs": [],
   "source": [
    "from scipy import special\n",
    "\n",
    "Qan_h = lambda xe: np.sqrt(2*xe**2./(np.exp(-2*xe**2)+np.sqrt(2*np.pi)*xe*special.erf(np.sqrt(2)*xe)-1))\n",
    "Qsn_h = lambda xe: Qan_h(xe/4)**(2/3)\n",
    "# adding 1e-6 to avoid zero divide\n",
    "xe_h = lambda n_harm, undulator_N, dEpE: (2*np.pi*undulator_N*n_harm*dEpE+1e-6)\n",
    "\n",
    "Qs_h = lambda n_harm, undulator_N, dEpE: Qsn_h(xe_h(n_harm, undulator_N, dEpE))\n",
    "Qa_h = lambda n_harm, undulator_N, dEpE: Qan_h(xe_h(n_harm, undulator_N, dEpE))\n",
    "\n",
    "Qs = Qs_h(n_harm, undulator_N, dEpE)\n",
    "Qa = Qa_h(n_harm, undulator_N, dEpE)\n",
    "\n",
    "# photon beam size (coherent limit)\n",
    "sp_m    = np.sqrt(lambdas_m*2*undulator_L_m)/(2*np.pi)\n",
    "spp_rad = np.sqrt(lambdas_m/(2*undulator_L_m))\n",
    "\n",
    "# beam size with energy spread only\n",
    "Sx2_m    = Qs*sp_m\n",
    "Sxp2_rad = Qa*spp_rad\n",
    "Sy2_m    = Qs*sp_m\n",
    "Syp2_rad = Qa*spp_rad\n",
    "\n",
    "# beam with finite ebeam size only\n",
    "Sx3_m    = np.sqrt(sex_m**2+   sp_m**2)\n",
    "Sxp3_rad = np.sqrt(sexp_rad**2+spp_rad**2)\n",
    "Sy3_m    = np.sqrt(sey_m**2+   sp_m**2)\n",
    "Syp3_rad = np.sqrt(seyp_rad**2+spp_rad**2)\n",
    "\n",
    "# beam size with energy spread anf finite ebeam size only\n",
    "Sx_m    = np.sqrt(sex_m**2+   (Qs*sp_m)**2)\n",
    "Sxp_rad = np.sqrt(sexp_rad**2+(Qa*spp_rad)**2)\n",
    "Sy_m    = np.sqrt(sey_m**2+   (Qs*sp_m)**2)\n",
    "Syp_rad = np.sqrt(seyp_rad**2+(Qa*spp_rad)**2)\n",
    "\n",
    "\n",
    "# coherent emittance limit\n",
    "emittance0_m2_rad2 = sp_m*spp_rad*sp_m*spp_rad\n",
    "# effective emittance\n",
    "emittance_m2_rad2 =  Sx_m*Sy_m*Sxp_rad*Syp_rad\n",
    "\n",
    "coh_frac = 1/(emittance_m2_rad2/(emittance0_m2_rad2))"
   ]
  },
  {
   "cell_type": "markdown",
   "metadata": {},
   "source": [
    "### Brilliance & coherent flux"
   ]
  },
  {
   "cell_type": "code",
   "execution_count": 9,
   "metadata": {},
   "outputs": [],
   "source": [
    "# norm_factor = (4/pi)^2*2\n",
    "# brilliance_ph_s_mm2_mrad2_01bw = flux_ph_s_01bw ./  (emittance_m2_rad2*(2*pi)^2*1e12);\n",
    "# semilogy(Es_eV, brilliance_ph_s_mm2_mrad2_01bw,'k')\n",
    "# ylabel('Brilliance [ph/s/mm^2/mrad^2/0.1BW]')\n",
    "# title('COSMIC ID brilliance (\\Lambda_0=38mm, LP)')\n",
    "# xlim([250 2500])\n",
    "# set(gca,'xTick',[250:250:2500])\n",
    "\n",
    "# % ylim([0.5e20 2e20])\n",
    "# % set(gca,'yTick',[5e19 1e20 2e20 ])\n",
    "# % ytickformat('%1.1f')\n",
    "\n",
    "# ylim([2e19 2e20])\n",
    "# set(gca,'yTick',[1e18 2e18 5e18 1e19 2e19 5e19 1e20 2e20])\n",
    "# ytickformat('%1.0e')\n",
    "# grid on\n",
    "\n",
    "\n",
    "# %% coherent flux\n",
    "\n",
    "# flux_h1_g1_coh_ph_s = flux1_ph_s_01bw.*eta1s./RP1*1000.*coh_frac;\n"
   ]
  }
 ],
 "metadata": {
  "kernelspec": {
   "display_name": "Python 3",
   "language": "python",
   "name": "python3"
  },
  "language_info": {
   "codemirror_mode": {
    "name": "ipython",
    "version": 3
   },
   "file_extension": ".py",
   "mimetype": "text/x-python",
   "name": "python",
   "nbconvert_exporter": "python",
   "pygments_lexer": "ipython3",
   "version": "3.10.8"
  }
 },
 "nbformat": 4,
 "nbformat_minor": 2
}
